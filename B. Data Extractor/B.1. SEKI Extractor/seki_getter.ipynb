{
 "cells": [
  {
   "cell_type": "markdown",
   "id": "b1032be7",
   "metadata": {},
   "source": [
    "# Library"
   ]
  },
  {
   "cell_type": "code",
   "execution_count": 2,
   "id": "d196e522",
   "metadata": {},
   "outputs": [],
   "source": [
    "from selenium import webdriver\n",
    "from selenium.webdriver.chrome.service import Service\n",
    "from selenium.webdriver.chrome.options import Options\n",
    "from selenium.webdriver.common.by import By\n",
    "from webdriver_manager.chrome import ChromeDriverManager\n",
    "import time\n",
    "import os\n",
    "import zipfile\n",
    "import glob"
   ]
  },
  {
   "cell_type": "markdown",
   "id": "1973b54b",
   "metadata": {},
   "source": [
    "# Path & URL Setting"
   ]
  },
  {
   "cell_type": "code",
   "execution_count": 3,
   "id": "b289bbf7",
   "metadata": {},
   "outputs": [],
   "source": [
    "# Define the Target URL of SSKI and folder to save files\n",
    "target_url = \"https://www.bi.go.id/id/statistik/ekonomi-keuangan/seki/Pages/SEKI-JUNI-2025.aspx\"\n",
    "\n",
    "# Relative to the script's location, not the terminal's working directory\n",
    "# Use the current working directory instead\n",
    "base_path = os.getcwd()\n",
    "download_dir = os.path.abspath(os.path.join(base_path, \"..\", \"..\", \"A. Data Source\", \"A.1. SEKI (Bank Indonesia)\"))\n",
    "\n",
    "# Make sure the folder exists\n",
    "os.makedirs(download_dir, exist_ok=True)"
   ]
  },
  {
   "cell_type": "markdown",
   "id": "962f479e",
   "metadata": {},
   "source": [
    "# Main Code"
   ]
  },
  {
   "cell_type": "code",
   "execution_count": 8,
   "id": "18c1e6fa",
   "metadata": {},
   "outputs": [],
   "source": [
    "# ------------------------------------------------------------------\n",
    "# 1) WAIT until Chrome finishes all downloads (no *.crdownload files)\n",
    "# ------------------------------------------------------------------\n",
    "def wait_downloads(folder, timeout=120):\n",
    "    \"\"\"Block until Chrome finishes downloads or timeout (sec).\"\"\"\n",
    "    start = time.time()\n",
    "    while True:\n",
    "        tmp_files = [f for f in os.listdir(folder) if f.endswith(\".crdownload\")]\n",
    "        if not tmp_files:\n",
    "            break\n",
    "        if time.time() - start > timeout:\n",
    "            raise TimeoutError(\"Download did not finish in time.\")\n",
    "        time.sleep(1)"
   ]
  },
  {
   "cell_type": "markdown",
   "id": "fabc0d0e",
   "metadata": {},
   "source": [
    "## SEKI Downloader from BI Web"
   ]
  },
  {
   "cell_type": "code",
   "execution_count": 4,
   "id": "1031dc1b",
   "metadata": {},
   "outputs": [],
   "source": [
    "month_list = [\"JUNI\", \"DESEMBER\"]\n",
    "year_list = [\"2022\", \"2023\", \"2024\", \"2025\"]"
   ]
  },
  {
   "cell_type": "code",
   "execution_count": null,
   "id": "ab73044a",
   "metadata": {},
   "outputs": [
    {
     "name": "stdout",
     "output_type": "stream",
     "text": [
      "File is being downloaded from: https://www.bi.go.id/id/statistik/ekonomi-keuangan/seki/Documents/SEKI_JUNI_2022.zip\n",
      "Saved to folder: c:\\Users\\Sharing Vision\\Documents\\GitHub\\Indonesia-Macro-Economic-Analysis\\A. Data Source\\A.1. SEKI (Bank Indonesia)\n",
      "File is being downloaded from: https://www.bi.go.id/id/statistik/ekonomi-keuangan/seki/Documents/SEKI_DESEMBER_2022.zip\n",
      "Saved to folder: c:\\Users\\Sharing Vision\\Documents\\GitHub\\Indonesia-Macro-Economic-Analysis\\A. Data Source\\A.1. SEKI (Bank Indonesia)\n",
      "File is being downloaded from: https://www.bi.go.id/id/statistik/ekonomi-keuangan/seki/Documents/SEKI_JUNI_2023.zip\n",
      "Saved to folder: c:\\Users\\Sharing Vision\\Documents\\GitHub\\Indonesia-Macro-Economic-Analysis\\A. Data Source\\A.1. SEKI (Bank Indonesia)\n",
      "File is being downloaded from: https://www.bi.go.id/id/statistik/ekonomi-keuangan/seki/Documents/SEKI_DESEMBER_2023.zip\n",
      "Saved to folder: c:\\Users\\Sharing Vision\\Documents\\GitHub\\Indonesia-Macro-Economic-Analysis\\A. Data Source\\A.1. SEKI (Bank Indonesia)\n",
      "File is being downloaded from: https://www.bi.go.id/id/statistik/ekonomi-keuangan/seki/Documents/SEKI_JUNI_2024.zip\n",
      "Saved to folder: c:\\Users\\Sharing Vision\\Documents\\GitHub\\Indonesia-Macro-Economic-Analysis\\A. Data Source\\A.1. SEKI (Bank Indonesia)\n",
      "File is being downloaded from: https://www.bi.go.id/id/statistik/ekonomi-keuangan/seki/Documents/SEKI_DESEMBER_2024.zip\n",
      "Saved to folder: c:\\Users\\Sharing Vision\\Documents\\GitHub\\Indonesia-Macro-Economic-Analysis\\A. Data Source\\A.1. SEKI (Bank Indonesia)\n",
      "File is being downloaded from: https://www.bi.go.id/id/statistik/ekonomi-keuangan/seki/Documents/SEKI_JUNI_2025.zip\n",
      "Saved to folder: c:\\Users\\Sharing Vision\\Documents\\GitHub\\Indonesia-Macro-Economic-Analysis\\A. Data Source\\A.1. SEKI (Bank Indonesia)\n"
     ]
    }
   ],
   "source": [
    "# === SETUP SELENIUM ===\n",
    "options = Options()\n",
    "options.add_experimental_option(\"prefs\", {\n",
    "    \"download.default_directory\": download_dir,\n",
    "    \"download.prompt_for_download\": False,\n",
    "    \"download.directory_upgrade\": True, \n",
    "    \"safebrowsing.enabled\": True\n",
    "})\n",
    "# options.add_argument(\"--headless\")  # optional: run without opening a browser window\n",
    "\n",
    "driver = webdriver.Chrome(service=Service(ChromeDriverManager().install()), options=options)\n",
    "\n",
    "try:\n",
    "    for year in year_list :\n",
    "        for month in month_list :\n",
    "            if year == \"2025\" and month == \"DESEMBER\" :\n",
    "                continue\n",
    "            else :\n",
    "                target_url = f\"https://www.bi.go.id/id/statistik/ekonomi-keuangan/seki/Pages/SEKI-{month}-{year}.aspx\"\n",
    "            \n",
    "                # Go to the target URL\n",
    "                driver.get(target_url)\n",
    "                time.sleep(5)  # Let the page fully load\n",
    "\n",
    "                # Find the link in the \"Lampiran\" section\n",
    "                download_link = driver.find_element(By.PARTIAL_LINK_TEXT, f\"SEKI {month} {year}.zip\")\n",
    "                href = download_link.get_attribute(\"href\")\n",
    "\n",
    "                # Click the download link\n",
    "                download_link.click()\n",
    "\n",
    "                print(f\"File is being downloaded from: {href}\")\n",
    "                print(f\"Saved to folder: {download_dir}\")\n",
    "\n",
    "                # Wait for download to finish (basic method)\n",
    "                time.sleep(20)\n",
    "                wait_downloads(download_dir)   # ← call after download_link.click()\n",
    "\n",
    "finally:\n",
    "    driver.quit()"
   ]
  },
  {
   "cell_type": "markdown",
   "id": "219e9459",
   "metadata": {},
   "source": [
    "## SEKI Downloaded File Unzipper"
   ]
  },
  {
   "cell_type": "code",
   "execution_count": 9,
   "id": "e5491c29",
   "metadata": {},
   "outputs": [
    {
     "name": "stdout",
     "output_type": "stream",
     "text": [
      "Extracting c:\\Users\\Sharing Vision\\Documents\\GitHub\\Indonesia-Macro-Economic-Analysis\\A. Data Source\\A.1. SEKI (Bank Indonesia)\\SEKI_DESEMBER_2022.zip → c:\\Users\\Sharing Vision\\Documents\\GitHub\\Indonesia-Macro-Economic-Analysis\\A. Data Source\\A.1. SEKI (Bank Indonesia)\\SEKI_DESEMBER_2022\n",
      "Extracting c:\\Users\\Sharing Vision\\Documents\\GitHub\\Indonesia-Macro-Economic-Analysis\\A. Data Source\\A.1. SEKI (Bank Indonesia)\\SEKI_DESEMBER_2023.zip → c:\\Users\\Sharing Vision\\Documents\\GitHub\\Indonesia-Macro-Economic-Analysis\\A. Data Source\\A.1. SEKI (Bank Indonesia)\\SEKI_DESEMBER_2023\n",
      "Extracting c:\\Users\\Sharing Vision\\Documents\\GitHub\\Indonesia-Macro-Economic-Analysis\\A. Data Source\\A.1. SEKI (Bank Indonesia)\\SEKI_DESEMBER_2024.zip → c:\\Users\\Sharing Vision\\Documents\\GitHub\\Indonesia-Macro-Economic-Analysis\\A. Data Source\\A.1. SEKI (Bank Indonesia)\\SEKI_DESEMBER_2024\n",
      "Extracting c:\\Users\\Sharing Vision\\Documents\\GitHub\\Indonesia-Macro-Economic-Analysis\\A. Data Source\\A.1. SEKI (Bank Indonesia)\\SEKI_JUNI_2022.zip → c:\\Users\\Sharing Vision\\Documents\\GitHub\\Indonesia-Macro-Economic-Analysis\\A. Data Source\\A.1. SEKI (Bank Indonesia)\\SEKI_JUNI_2022\n",
      "Extracting c:\\Users\\Sharing Vision\\Documents\\GitHub\\Indonesia-Macro-Economic-Analysis\\A. Data Source\\A.1. SEKI (Bank Indonesia)\\SEKI_JUNI_2023.zip → c:\\Users\\Sharing Vision\\Documents\\GitHub\\Indonesia-Macro-Economic-Analysis\\A. Data Source\\A.1. SEKI (Bank Indonesia)\\SEKI_JUNI_2023\n",
      "Extracting c:\\Users\\Sharing Vision\\Documents\\GitHub\\Indonesia-Macro-Economic-Analysis\\A. Data Source\\A.1. SEKI (Bank Indonesia)\\SEKI_JUNI_2024.zip → c:\\Users\\Sharing Vision\\Documents\\GitHub\\Indonesia-Macro-Economic-Analysis\\A. Data Source\\A.1. SEKI (Bank Indonesia)\\SEKI_JUNI_2024\n",
      "Extracting c:\\Users\\Sharing Vision\\Documents\\GitHub\\Indonesia-Macro-Economic-Analysis\\A. Data Source\\A.1. SEKI (Bank Indonesia)\\SEKI_JUNI_2025.zip → c:\\Users\\Sharing Vision\\Documents\\GitHub\\Indonesia-Macro-Economic-Analysis\\A. Data Source\\A.1. SEKI (Bank Indonesia)\\SEKI_JUNI_2025\n",
      "✅ All ZIP files extracted.\n"
     ]
    }
   ],
   "source": [
    "# ------------------------------------------------------------------\n",
    "# 2) EXTRACT every .zip found in download_dir\n",
    "#    Each zip is unpacked into a folder with the same base-name\n",
    "# ------------------------------------------------------------------\n",
    "for zip_path in glob.glob(os.path.join(download_dir, \"*.zip\")):\n",
    "    base_name = os.path.splitext(os.path.basename(zip_path))[0]\n",
    "    extract_to = os.path.join(download_dir, base_name)\n",
    "    os.makedirs(extract_to, exist_ok=True)\n",
    "\n",
    "    print(f\"Extracting {zip_path} → {extract_to}\")\n",
    "    with zipfile.ZipFile(zip_path, \"r\") as zf:\n",
    "        zf.extractall(extract_to)\n",
    "\n",
    "    # Optional: remove the original zip to save space\n",
    "    # os.remove(zip_path)\n",
    "\n",
    "print(\"✅ All ZIP files extracted.\")"
   ]
  }
 ],
 "metadata": {
  "kernelspec": {
   "display_name": "new_env",
   "language": "python",
   "name": "python3"
  },
  "language_info": {
   "codemirror_mode": {
    "name": "ipython",
    "version": 3
   },
   "file_extension": ".py",
   "mimetype": "text/x-python",
   "name": "python",
   "nbconvert_exporter": "python",
   "pygments_lexer": "ipython3",
   "version": "3.10.18"
  }
 },
 "nbformat": 4,
 "nbformat_minor": 5
}
