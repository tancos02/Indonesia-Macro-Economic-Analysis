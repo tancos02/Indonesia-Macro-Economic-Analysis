{
 "cells": [
  {
   "cell_type": "markdown",
   "id": "b3f59ace",
   "metadata": {},
   "source": [
    "# Library"
   ]
  },
  {
   "cell_type": "code",
   "execution_count": 70,
   "id": "753a0d4b",
   "metadata": {},
   "outputs": [],
   "source": [
    "import os\n",
    "import pandas as pd\n",
    "import re\n",
    "import numpy as np\n",
    "import warnings"
   ]
  },
  {
   "cell_type": "code",
   "execution_count": 71,
   "id": "ed1e9f30",
   "metadata": {},
   "outputs": [],
   "source": [
    "warnings.filterwarnings('ignore')\n",
    "\n",
    "pd.set_option('display.max_rows', 999)\n",
    "pd.set_option('display.max_columns', 999)\n",
    "\n",
    "pd.options.display.float_format = '{:,.4f}'.format"
   ]
  },
  {
   "cell_type": "markdown",
   "id": "191f95f4",
   "metadata": {},
   "source": [
    "# Path Setting"
   ]
  },
  {
   "cell_type": "code",
   "execution_count": 2,
   "id": "f6e478e1",
   "metadata": {},
   "outputs": [],
   "source": [
    "# Use the current working directory instead\n",
    "base_path = os.getcwd()\n",
    "data_source_dir = os.path.abspath(os.path.join(base_path, \"..\", \"..\", \"A. Data Source\", \"A.1. SEKI (Bank Indonesia)\"))\n",
    "data_result_dir = os.path.abspath(os.path.join(base_path, \"..\", \"..\", \"C. Processed Data\", \"C.1. SEKI (Bank Indonesia)\"))"
   ]
  },
  {
   "cell_type": "markdown",
   "id": "9a983a2c",
   "metadata": {},
   "source": [
    "# Additional Function"
   ]
  },
  {
   "cell_type": "code",
   "execution_count": 12,
   "id": "abc0c1e6",
   "metadata": {},
   "outputs": [],
   "source": [
    "def read_sheet_7_1(file_path):\n",
    "    try:\n",
    "        # Get all sheet names\n",
    "        sheet_names = pd.ExcelFile(file_path).sheet_names\n",
    "\n",
    "        # Select the appropriate sheet\n",
    "        target_sheet = None\n",
    "        if '7.1' in sheet_names:\n",
    "            target_sheet = '7.1'\n",
    "        else :\n",
    "            target_sheet = sheet_names[-1]\n",
    "\n",
    "        if target_sheet:\n",
    "            df = pd.read_excel(file_path, sheet_name=target_sheet)\n",
    "            return df\n",
    "        else:\n",
    "            print(f\"No sheet '7.1'found in {file_path}\")\n",
    "            return None\n",
    "\n",
    "    except Exception as e:\n",
    "        print(f\"Failed to read {file_path}: {e}\")\n",
    "        return None"
   ]
  },
  {
   "cell_type": "code",
   "execution_count": 85,
   "id": "7bcf9d7d",
   "metadata": {},
   "outputs": [],
   "source": [
    "def fill_first_row_pattern(df: pd.DataFrame) -> pd.DataFrame:\n",
    "    \"\"\"\n",
    "    Fill null values in the first row of a DataFrame based on Q1, Q4, Q3 rules.\n",
    "    Starting from column index 1. Pattern check is now 'contains' instead of '=='.\n",
    "    Skips filling if start == end - 1 (already only one cell).\n",
    "    \"\"\"\n",
    "    df = df.copy()\n",
    "    first_row = df.iloc[0].copy()\n",
    "\n",
    "    col_index = 1  # Start from column index 1\n",
    "    while col_index < len(df.columns):\n",
    "        if pd.notna(first_row[col_index]):\n",
    "            value = first_row[col_index]\n",
    "\n",
    "            if pd.notna(df.iloc[1, col_index]):\n",
    "                pattern = str(df.iloc[1, col_index]).strip().upper()\n",
    "\n",
    "                if \"Q1\" in pattern:\n",
    "                    # print(f\"Found Q1 pattern : {str(value)}\")\n",
    "                    start = col_index\n",
    "                    end = min(col_index + 5, len(df.columns))  # Next 4 columns\n",
    "                    if start != end - 1:  # Skip if only 1 column\n",
    "                        for i in range(start, end):\n",
    "                            first_row[i] = str(value)\n",
    "                    col_index = end\n",
    "                    continue\n",
    "\n",
    "                elif \"Q4\" in pattern:\n",
    "                    # print(f\"Found Q4 pattern : {str(value)}\")\n",
    "                    start = max(col_index - 3, 0)  # 3 before\n",
    "                    end = min(col_index + 2, len(df.columns))  # 1 after\n",
    "                    if start != end - 1:\n",
    "                        for i in range(start, end):\n",
    "                            first_row[i] = str(value)\n",
    "                    col_index = end\n",
    "                    continue\n",
    "\n",
    "                elif \"Q3\" in pattern:\n",
    "                    # print(f\"Found Q3 pattern : {str(value)}\")\n",
    "                    start = max(col_index - 2, 0)  # 2 before\n",
    "                    end = col_index + 1\n",
    "                    if start != end - 1:\n",
    "                        for i in range(start, end):\n",
    "                            first_row[i] = str(value)\n",
    "                    col_index = end\n",
    "                    continue\n",
    "\n",
    "        col_index += 1\n",
    "\n",
    "    df.iloc[0] = first_row\n",
    "    return df"
   ]
  },
  {
   "cell_type": "code",
   "execution_count": 88,
   "id": "1976bd9e",
   "metadata": {},
   "outputs": [],
   "source": [
    "def normalize_text(text):\n",
    "    \"\"\"Convert text to lowercase and remove all spaces.\"\"\"\n",
    "    return str(text).lower().replace(\" \", \"\")\n",
    "\n",
    "def merge_rows(df, merge_list, col_index=1):\n",
    "    # Normalize the merge_list\n",
    "    normalized_list = [normalize_text(item) for item in merge_list]\n",
    "\n",
    "    rows_to_drop = []\n",
    "    for i in range(len(df) - 1):\n",
    "        current_val = normalize_text(df.iloc[i, col_index])\n",
    "\n",
    "        if current_val in normalized_list:\n",
    "            # Merge current row with the next row (column by column)\n",
    "            for col in df.columns:\n",
    "                val1 = df.at[i, col]\n",
    "                val2 = df.at[i + 1, col]\n",
    "\n",
    "                # Convert nulls to empty string, others to string\n",
    "                str1 = \"\" if pd.isna(val1) else str(val1)\n",
    "                str2 = \"\" if pd.isna(val2) else str(val2)\n",
    "\n",
    "                # Merge with a space only if both are non-empty\n",
    "                if str1 and str2:\n",
    "                    merged = str1 + \" \" + str2\n",
    "                else:\n",
    "                    merged = str1 + str2  # One of them is empty\n",
    "\n",
    "                df.at[i, col] = merged\n",
    "\n",
    "            rows_to_drop.append(i + 1)\n",
    "\n",
    "    df = df.drop(rows_to_drop).reset_index(drop=True)\n",
    "    return df"
   ]
  },
  {
   "cell_type": "code",
   "execution_count": 94,
   "id": "8680c958",
   "metadata": {},
   "outputs": [],
   "source": [
    "def rename_columns_from_first_row(df: pd.DataFrame) -> pd.DataFrame:\n",
    "    # Step 2: Get the first row as new names (for columns index 3 onward)\n",
    "    new_names = df.iloc[0].tolist()\n",
    "\n",
    "    # Step 3: Combine fixed names (first 3) + new names from first row\n",
    "    updated_cols = new_names\n",
    "\n",
    "    # Step 4: Assign new column names\n",
    "    df.columns = updated_cols\n",
    "\n",
    "    # Step 5: Drop the first row\n",
    "    df = df.iloc[1:].reset_index(drop=True)\n",
    "\n",
    "    return df"
   ]
  },
  {
   "cell_type": "code",
   "execution_count": 105,
   "id": "b528f314",
   "metadata": {},
   "outputs": [],
   "source": [
    "def transform_df_long(df:pd.DataFrame):\n",
    "    # Identify year-based columns\n",
    "    year_cols = [col for col in df.columns if re.match(r'^\\d{4}', str(col))]\n",
    "    other_cols = [col for col in df.columns if col not in year_cols]\n",
    "\n",
    "    # Melt: POSISI and KOMPONEN both as rows\n",
    "    df_long = df.melt(\n",
    "        id_vars= other_cols,\n",
    "        value_vars=year_cols,\n",
    "        var_name='POSISI',\n",
    "        value_name='VALUE'\n",
    "    )\n",
    "\n",
    "    return df_long"
   ]
  },
  {
   "cell_type": "code",
   "execution_count": 110,
   "id": "d38ccd11",
   "metadata": {},
   "outputs": [],
   "source": [
    "def end_to_end_df_processing(df:pd.DataFrame) -> pd.DataFrame :\n",
    "    merge_key_list = [\n",
    "        \"LAPANGAN USAHA\"\n",
    "    ]\n",
    "    \n",
    "    df = df.iloc[3:].reset_index(drop=True)\n",
    "    df = df.drop(df.columns[[0, 1]], axis=1)\n",
    "    df = df.drop(df.columns[-4:], axis=1)\n",
    "    df = df.dropna(axis=1, how='all')\n",
    "    df = fill_first_row_pattern(df)\n",
    "    df = merge_rows(df, merge_key_list, 0)\n",
    "    # Add feature index for ordering based on feature\n",
    "    df = rename_columns_from_first_row(df)\n",
    "    df = df.reset_index()\n",
    "    df = df.rename(columns={'index': 'feature_index'})\n",
    "    df = df.iloc[:-2]\n",
    "    df = transform_df_long(df)\n",
    "    \n",
    "    return(df)"
   ]
  },
  {
   "cell_type": "code",
   "execution_count": 109,
   "id": "c673395a",
   "metadata": {},
   "outputs": [],
   "source": [
    "def combine_two_dfs(df_list : list) -> pd.DataFrame :\n",
    "    key_cols = ['LAPANGAN USAHA', 'POSISI']\n",
    "\n",
    "    combined = pd.concat(df_list, ignore_index=True)\n",
    "    combined = combined.drop_duplicates(subset=key_cols, keep='last')\n",
    "    return(combined.reset_index(drop=True))"
   ]
  },
  {
   "cell_type": "markdown",
   "id": "018c5807",
   "metadata": {},
   "source": [
    "# Main Code"
   ]
  },
  {
   "cell_type": "code",
   "execution_count": null,
   "id": "de961555",
   "metadata": {},
   "outputs": [],
   "source": [
    "file_to_be_extracted = \"TABEL7_1.xls\"\n",
    "data_dict = {}\n",
    "\n",
    "# Loop through all child folders\n",
    "for folder in os.listdir(data_source_dir):\n",
    "    folder_path = os.path.join(data_source_dir, folder)\n",
    "    \n",
    "    # Only process if it's a directory\n",
    "    if os.path.isdir(folder_path):\n",
    "        file_path = os.path.join(folder_path, file_to_be_extracted)\n",
    "        try:\n",
    "            df = read_sheet_7_1(file_path)\n",
    "            key = os.path.splitext(folder + \"_\" + file_to_be_extracted)[0]  # Get filename without extension\n",
    "            data_dict[key] = df\n",
    "        except Exception as e:\n",
    "            print(f\"Failed to read {file_path}: {e}\")"
   ]
  },
  {
   "cell_type": "code",
   "execution_count": 17,
   "id": "a1a03bcb",
   "metadata": {},
   "outputs": [],
   "source": [
    "data_dict_backup = data_dict.copy()"
   ]
  },
  {
   "cell_type": "code",
   "execution_count": 111,
   "id": "ed5a6e86",
   "metadata": {},
   "outputs": [],
   "source": [
    "data_dict = data_dict_backup.copy()\n",
    "combined_all_df = pd.DataFrame()\n",
    "key_list_ordered = [\n",
    "    'SEKI_JUNI_2022_TABEL7_1', 'SEKI_DESEMBER_2022_TABEL7_1', \n",
    "    'SEKI_JUNI_2023_TABEL7_1', 'SEKI_DESEMBER_2023_TABEL7_1', \n",
    "    'SEKI_JUNI_2024_TABEL7_1', 'SEKI_DESEMBER_2024_TABEL7_1',\n",
    "    'SEKI_JUNI_2025_TABEL7_1'\n",
    "]\n",
    "\n",
    "for key in key_list_ordered :\n",
    "    df = data_dict[key]\n",
    "    new_df = end_to_end_df_processing(df)\n",
    "    data_dict[key] = new_df\n",
    "    combined_all_df = combine_two_dfs([combined_all_df, new_df])\n",
    "\n",
    "combined_all_df = combined_all_df.sort_values(by=['POSISI', 'feature_index'], ascending=[True, True]).reset_index(drop=True)"
   ]
  },
  {
   "cell_type": "code",
   "execution_count": 113,
   "id": "0bf55e30",
   "metadata": {},
   "outputs": [],
   "source": [
    "new_column_order = [\n",
    "    'POSISI', 'POSISI_TYPE', 'feature_index', 'LAPANGAN USAHA', 'SATUAN/ UNIT', \n",
    "    'VALUE'\n",
    "]\n",
    "\n",
    "combined_all_df['POSISI_TYPE'] = np.where(combined_all_df['POSISI'].str.endswith('**'), 'Angka Sangat Sementara',\n",
    "                     np.where(combined_all_df['POSISI'].str.endswith(' *'), 'Angka Sementara',\n",
    "                              'Angka Tetap'))\n",
    "\n",
    "combined_all_df['SATUAN/ UNIT'] = \"(Miliar Rp)\"\n",
    "combined_all_df = combined_all_df.sort_values(by=['POSISI', 'feature_index'], ascending=[True, True]).reset_index(drop=True)\n",
    "\n",
    "combined_all_df = combined_all_df[new_column_order]"
   ]
  },
  {
   "cell_type": "code",
   "execution_count": 114,
   "id": "6900ee67",
   "metadata": {},
   "outputs": [
    {
     "data": {
      "application/vnd.microsoft.datawrangler.viewer.v0+json": {
       "columns": [
        {
         "name": "index",
         "rawType": "int64",
         "type": "integer"
        },
        {
         "name": "POSISI",
         "rawType": "object",
         "type": "string"
        },
        {
         "name": "POSISI_TYPE",
         "rawType": "object",
         "type": "string"
        },
        {
         "name": "feature_index",
         "rawType": "int64",
         "type": "integer"
        },
        {
         "name": "LAPANGAN USAHA",
         "rawType": "object",
         "type": "string"
        },
        {
         "name": "SATUAN/ UNIT",
         "rawType": "object",
         "type": "string"
        },
        {
         "name": "VALUE",
         "rawType": "object",
         "type": "unknown"
        }
       ],
       "ref": "40eceae3-4c69-45e0-b61c-a9428365996d",
       "rows": [
        [
         "0",
         "2010",
         "Angka Tetap",
         "0",
         "PERTANIAN, KEHUTANAN & PERIKANAN",
         "(Miliar Rp)",
         "956119.7"
        ],
        [
         "1",
         "2010",
         "Angka Tetap",
         "1",
         "Pertanian, Peternakan, Perburuan dan Jasa Pertanian",
         "(Miliar Rp)",
         "754434.4"
        ],
        [
         "2",
         "2010",
         "Angka Tetap",
         "2",
         "Tanaman Pangan",
         "(Miliar Rp)",
         "253326.6"
        ],
        [
         "3",
         "2010",
         "Angka Tetap",
         "3",
         "Tanaman Hortikultura",
         "(Miliar Rp)",
         "110395.3"
        ],
        [
         "4",
         "2010",
         "Angka Tetap",
         "4",
         "Tanaman Perkebunan",
         "(Miliar Rp)",
         "268207.3"
        ],
        [
         "5",
         "2010",
         "Angka Tetap",
         "5",
         "Peternakan",
         "(Miliar Rp)",
         "108399.9"
        ],
        [
         "6",
         "2010",
         "Angka Tetap",
         "6",
         "Jasa Pertanian dan Perburuan",
         "(Miliar Rp)",
         "14105.3"
        ],
        [
         "7",
         "2010",
         "Angka Tetap",
         "7",
         "Kehutanan dan Penebangan kayu",
         "(Miliar Rp)",
         "58125.9"
        ],
        [
         "8",
         "2010",
         "Angka Tetap",
         "8",
         "Perikanan",
         "(Miliar Rp)",
         "143559.4"
        ],
        [
         "9",
         "2010",
         "Angka Tetap",
         "9",
         "PERTAMBANGAN & PENGGALIAN",
         "(Miliar Rp)",
         "718128.6"
        ],
        [
         "10",
         "2010",
         "Angka Tetap",
         "10",
         "Pertambangan Minyak dan Gas Bumi",
         "(Miliar Rp)",
         "336169.7"
        ],
        [
         "11",
         "2010",
         "Angka Tetap",
         "11",
         "Pertambangan Batubara dan Lignit",
         "(Miliar Rp)",
         "160732.5"
        ],
        [
         "12",
         "2010",
         "Angka Tetap",
         "12",
         "Pertambangan Biji Logam,",
         "(Miliar Rp)",
         "109244.2"
        ],
        [
         "13",
         "2010",
         "Angka Tetap",
         "13",
         "Pertambangan dan Penggalian Lainnya",
         "(Miliar Rp)",
         "111982.2"
        ],
        [
         "14",
         "2010",
         "Angka Tetap",
         "14",
         "INDUSTRI PENGOLAHAN",
         "(Miliar Rp)",
         "1512760.8"
        ],
        [
         "15",
         "2010",
         "Angka Tetap",
         "15",
         "Industri Batubara dan Pengilangan Migas",
         "(Miliar Rp)",
         "233822.2"
        ],
        [
         "16",
         "2010",
         "Angka Tetap",
         "16",
         "Industri Makanan dan Minuman",
         "(Miliar Rp)",
         "360443.1"
        ],
        [
         "17",
         "2010",
         "Angka Tetap",
         "17",
         "Pengolahan Tembakau",
         "(Miliar Rp)",
         "67249.4"
        ],
        [
         "18",
         "2010",
         "Angka Tetap",
         "18",
         "Industri Tekstil dan Pakaian Jadi",
         "(Miliar Rp)",
         "96306.9"
        ],
        [
         "19",
         "2010",
         "Angka Tetap",
         "19",
         "Industri Kulit, Barang dari Kulit dan Alas Kaki",
         "(Miliar Rp)",
         "19697.2"
        ],
        [
         "20",
         "2010",
         "Angka Tetap",
         "20",
         "Industri Kayu, Barang dari Kayu, Gabus dan Barang Anyaman dari Bambu, Rotan dan sejenisnya",
         "(Miliar Rp)",
         "56775.1"
        ],
        [
         "21",
         "2010",
         "Angka Tetap",
         "21",
         "Industri Kertas dan Barang dari kertas, Percetakan dan Reproduksi Media Rekaman",
         "(Miliar Rp)",
         "67984.8"
        ],
        [
         "22",
         "2010",
         "Angka Tetap",
         "22",
         "industri Kimia, Farmasi dan Obat Tradisional",
         "(Miliar Rp)",
         "114332.4"
        ],
        [
         "23",
         "2010",
         "Angka Tetap",
         "23",
         "Industri Karet, Barang dari Karet dan Plastik",
         "(Miliar Rp)",
         "66763.0"
        ],
        [
         "24",
         "2010",
         "Angka Tetap",
         "24",
         "Industri Barang Galian bukan logam",
         "(Miliar Rp)",
         "50948.3"
        ],
        [
         "25",
         "2010",
         "Angka Tetap",
         "25",
         "Industri Logam Dasar",
         "(Miliar Rp)",
         "54471.5"
        ],
        [
         "26",
         "2010",
         "Angka Tetap",
         "26",
         "Industri Barang dari Logam, Komputer, Barang Elektronik, Optik dan Peralatan Listrik",
         "(Miliar Rp)",
         "130750.5"
        ],
        [
         "27",
         "2010",
         "Angka Tetap",
         "27",
         "Industri Mesin dan Perlengkapan",
         "(Miliar Rp)",
         "23767.2"
        ],
        [
         "28",
         "2010",
         "Angka Tetap",
         "28",
         "Industri Alat Angkutan",
         "(Miliar Rp)",
         "134260.2"
        ],
        [
         "29",
         "2010",
         "Angka Tetap",
         "29",
         "Industri Furnitur",
         "(Miliar Rp)",
         "20069.3"
        ],
        [
         "30",
         "2010",
         "Angka Tetap",
         "30",
         "Industri Pengolahan Lainnya, Jasa Reparasi dan Pemasangan Mesin dan Peralatan",
         "(Miliar Rp)",
         "15119.7"
        ],
        [
         "31",
         "2010",
         "Angka Tetap",
         "31",
         "PENGADAAN LISTRIK DAN GAS",
         "(Miliar Rp)",
         "72549.1"
        ],
        [
         "32",
         "2010",
         "Angka Tetap",
         "32",
         "Ketenagalistrikan",
         "(Miliar Rp)",
         "58866.5"
        ],
        [
         "33",
         "2010",
         "Angka Tetap",
         "33",
         "Pengadaan Gas dan Produksi Es",
         "(Miliar Rp)",
         "13682.6"
        ],
        [
         "34",
         "2010",
         "Angka Tetap",
         "34",
         "PENGADAAN AIR, PENGELOLAAN SAMPAH, LIMBAH DAN DAUR ULANG",
         "(Miliar Rp)",
         "5848.5"
        ],
        [
         "35",
         "2010",
         "Angka Tetap",
         "35",
         "KONSTRUKSI",
         "(Miliar Rp)",
         "626905.4"
        ],
        [
         "36",
         "2010",
         "Angka Tetap",
         "36",
         "PERDAGANGAN BESAR DAN ECERAN, REPARASI MOBIL DAN MOTOR",
         "(Miliar Rp)",
         "923923.8"
        ],
        [
         "37",
         "2010",
         "Angka Tetap",
         "37",
         "Perdagangan Mobil, Sepeda Motor dan Reparasinya",
         "(Miliar Rp)",
         "182140.5"
        ],
        [
         "38",
         "2010",
         "Angka Tetap",
         "38",
         "Pedagangan Besar dan Eceran, bukan Mobil dan Sepeda",
         "(Miliar Rp)",
         "741783.3"
        ],
        [
         "39",
         "2010",
         "Angka Tetap",
         "39",
         "TRANSPORTASI DAN PERGUDANGAN",
         "(Miliar Rp)",
         "245375.4"
        ],
        [
         "40",
         "2010",
         "Angka Tetap",
         "40",
         "Angkutan Rel",
         "(Miliar Rp)",
         "2374.7"
        ],
        [
         "41",
         "2010",
         "Angka Tetap",
         "41",
         "Angkutan Darat",
         "(Miliar Rp)",
         "135485.6"
        ],
        [
         "42",
         "2010",
         "Angka Tetap",
         "42",
         "Angkutan Laut",
         "(Miliar Rp)",
         "21715.3"
        ],
        [
         "43",
         "2010",
         "Angka Tetap",
         "43",
         "Angkutan Sungai, Danau & Penyeberangan",
         "(Miliar Rp)",
         "8113.1"
        ],
        [
         "44",
         "2010",
         "Angka Tetap",
         "44",
         "Angkutan Udara",
         "(Miliar Rp)",
         "38304.2"
        ],
        [
         "45",
         "2010",
         "Angka Tetap",
         "45",
         "Pergudangan dan Jasa Penunjang Angkutan, Pos dan Kurir",
         "(Miliar Rp)",
         "39382.5"
        ],
        [
         "46",
         "2010",
         "Angka Tetap",
         "46",
         "PENYEDIAAN AKOMODASI DAN MAKAN MINUIM",
         "(Miliar Rp)",
         "200281.8"
        ],
        [
         "47",
         "2010",
         "Angka Tetap",
         "47",
         "Penyediaan Akomodasi",
         "(Miliar Rp)",
         "35764.3"
        ],
        [
         "48",
         "2010",
         "Angka Tetap",
         "48",
         "Penyediaan Makan Minum",
         "(Miliar Rp)",
         "164517.5"
        ],
        [
         "49",
         "2010",
         "Angka Tetap",
         "49",
         "INFORMASI DAN KOMUNIKASI",
         "(Miliar Rp)",
         "256048.1"
        ]
       ],
       "shape": {
        "columns": 6,
        "rows": 5952
       }
      },
      "text/html": [
       "<div>\n",
       "<style scoped>\n",
       "    .dataframe tbody tr th:only-of-type {\n",
       "        vertical-align: middle;\n",
       "    }\n",
       "\n",
       "    .dataframe tbody tr th {\n",
       "        vertical-align: top;\n",
       "    }\n",
       "\n",
       "    .dataframe thead th {\n",
       "        text-align: right;\n",
       "    }\n",
       "</style>\n",
       "<table border=\"1\" class=\"dataframe\">\n",
       "  <thead>\n",
       "    <tr style=\"text-align: right;\">\n",
       "      <th></th>\n",
       "      <th>POSISI</th>\n",
       "      <th>POSISI_TYPE</th>\n",
       "      <th>feature_index</th>\n",
       "      <th>LAPANGAN USAHA</th>\n",
       "      <th>SATUAN/ UNIT</th>\n",
       "      <th>VALUE</th>\n",
       "    </tr>\n",
       "  </thead>\n",
       "  <tbody>\n",
       "    <tr>\n",
       "      <th>0</th>\n",
       "      <td>2010</td>\n",
       "      <td>Angka Tetap</td>\n",
       "      <td>0</td>\n",
       "      <td>PERTANIAN, KEHUTANAN &amp; PERIKANAN</td>\n",
       "      <td>(Miliar Rp)</td>\n",
       "      <td>956,119.7000</td>\n",
       "    </tr>\n",
       "    <tr>\n",
       "      <th>1</th>\n",
       "      <td>2010</td>\n",
       "      <td>Angka Tetap</td>\n",
       "      <td>1</td>\n",
       "      <td>Pertanian, Peternakan, Perburuan dan Jasa Pert...</td>\n",
       "      <td>(Miliar Rp)</td>\n",
       "      <td>754,434.4000</td>\n",
       "    </tr>\n",
       "    <tr>\n",
       "      <th>2</th>\n",
       "      <td>2010</td>\n",
       "      <td>Angka Tetap</td>\n",
       "      <td>2</td>\n",
       "      <td>Tanaman Pangan</td>\n",
       "      <td>(Miliar Rp)</td>\n",
       "      <td>253,326.6000</td>\n",
       "    </tr>\n",
       "    <tr>\n",
       "      <th>3</th>\n",
       "      <td>2010</td>\n",
       "      <td>Angka Tetap</td>\n",
       "      <td>3</td>\n",
       "      <td>Tanaman Hortikultura</td>\n",
       "      <td>(Miliar Rp)</td>\n",
       "      <td>110,395.3000</td>\n",
       "    </tr>\n",
       "    <tr>\n",
       "      <th>4</th>\n",
       "      <td>2010</td>\n",
       "      <td>Angka Tetap</td>\n",
       "      <td>4</td>\n",
       "      <td>Tanaman Perkebunan</td>\n",
       "      <td>(Miliar Rp)</td>\n",
       "      <td>268,207.3000</td>\n",
       "    </tr>\n",
       "    <tr>\n",
       "      <th>...</th>\n",
       "      <td>...</td>\n",
       "      <td>...</td>\n",
       "      <td>...</td>\n",
       "      <td>...</td>\n",
       "      <td>...</td>\n",
       "      <td>...</td>\n",
       "    </tr>\n",
       "    <tr>\n",
       "      <th>5947</th>\n",
       "      <td>2025 Q1**</td>\n",
       "      <td>Angka Sangat Sementara</td>\n",
       "      <td>59</td>\n",
       "      <td>JASA KESEHATAN DAN KEGIATAN LAINNYA</td>\n",
       "      <td>(Miliar Rp)</td>\n",
       "      <td>69,914.1000</td>\n",
       "    </tr>\n",
       "    <tr>\n",
       "      <th>5948</th>\n",
       "      <td>2025 Q1**</td>\n",
       "      <td>Angka Sangat Sementara</td>\n",
       "      <td>60</td>\n",
       "      <td>JASA LAINNYA</td>\n",
       "      <td>(Miliar Rp)</td>\n",
       "      <td>119564</td>\n",
       "    </tr>\n",
       "    <tr>\n",
       "      <th>5949</th>\n",
       "      <td>2025 Q1**</td>\n",
       "      <td>Angka Sangat Sementara</td>\n",
       "      <td>61</td>\n",
       "      <td>NILAI TAMBAH BRUTO ATAS HARGA DASAR</td>\n",
       "      <td>(Miliar Rp)</td>\n",
       "      <td>5,443,989.1000</td>\n",
       "    </tr>\n",
       "    <tr>\n",
       "      <th>5950</th>\n",
       "      <td>2025 Q1**</td>\n",
       "      <td>Angka Sangat Sementara</td>\n",
       "      <td>62</td>\n",
       "      <td>PAJAK DIKURANG SUBSIDI ATAS PRODUK</td>\n",
       "      <td>(Miliar Rp)</td>\n",
       "      <td>221,941.1000</td>\n",
       "    </tr>\n",
       "    <tr>\n",
       "      <th>5951</th>\n",
       "      <td>2025 Q1**</td>\n",
       "      <td>Angka Sangat Sementara</td>\n",
       "      <td>63</td>\n",
       "      <td>PRODUK DOMESTIK BRUTO</td>\n",
       "      <td>(Miliar Rp)</td>\n",
       "      <td>5,665,930.2000</td>\n",
       "    </tr>\n",
       "  </tbody>\n",
       "</table>\n",
       "<p>5952 rows × 6 columns</p>\n",
       "</div>"
      ],
      "text/plain": [
       "         POSISI             POSISI_TYPE  feature_index  \\\n",
       "0          2010             Angka Tetap              0   \n",
       "1          2010             Angka Tetap              1   \n",
       "2          2010             Angka Tetap              2   \n",
       "3          2010             Angka Tetap              3   \n",
       "4          2010             Angka Tetap              4   \n",
       "...         ...                     ...            ...   \n",
       "5947  2025 Q1**  Angka Sangat Sementara             59   \n",
       "5948  2025 Q1**  Angka Sangat Sementara             60   \n",
       "5949  2025 Q1**  Angka Sangat Sementara             61   \n",
       "5950  2025 Q1**  Angka Sangat Sementara             62   \n",
       "5951  2025 Q1**  Angka Sangat Sementara             63   \n",
       "\n",
       "                                         LAPANGAN USAHA SATUAN/ UNIT  \\\n",
       "0                      PERTANIAN, KEHUTANAN & PERIKANAN  (Miliar Rp)   \n",
       "1     Pertanian, Peternakan, Perburuan dan Jasa Pert...  (Miliar Rp)   \n",
       "2                                        Tanaman Pangan  (Miliar Rp)   \n",
       "3                                  Tanaman Hortikultura  (Miliar Rp)   \n",
       "4                                    Tanaman Perkebunan  (Miliar Rp)   \n",
       "...                                                 ...          ...   \n",
       "5947                JASA KESEHATAN DAN KEGIATAN LAINNYA  (Miliar Rp)   \n",
       "5948                                       JASA LAINNYA  (Miliar Rp)   \n",
       "5949                NILAI TAMBAH BRUTO ATAS HARGA DASAR  (Miliar Rp)   \n",
       "5950                 PAJAK DIKURANG SUBSIDI ATAS PRODUK  (Miliar Rp)   \n",
       "5951                              PRODUK DOMESTIK BRUTO  (Miliar Rp)   \n",
       "\n",
       "              VALUE  \n",
       "0      956,119.7000  \n",
       "1      754,434.4000  \n",
       "2      253,326.6000  \n",
       "3      110,395.3000  \n",
       "4      268,207.3000  \n",
       "...             ...  \n",
       "5947    69,914.1000  \n",
       "5948         119564  \n",
       "5949 5,443,989.1000  \n",
       "5950   221,941.1000  \n",
       "5951 5,665,930.2000  \n",
       "\n",
       "[5952 rows x 6 columns]"
      ]
     },
     "execution_count": 114,
     "metadata": {},
     "output_type": "execute_result"
    }
   ],
   "source": [
    "combined_all_df"
   ]
  },
  {
   "cell_type": "markdown",
   "id": "8cf1b866",
   "metadata": {},
   "source": [
    "# Export Result"
   ]
  },
  {
   "cell_type": "code",
   "execution_count": 115,
   "id": "6a9ef161",
   "metadata": {},
   "outputs": [],
   "source": [
    "result_file_name = \"SEKI_7_1_result.xlsx\"\n",
    "\n",
    "result_file_path = os.path.join(data_result_dir, result_file_name)"
   ]
  },
  {
   "cell_type": "code",
   "execution_count": 116,
   "id": "7d130d0b",
   "metadata": {},
   "outputs": [],
   "source": [
    "combined_all_df.to_excel(result_file_path, index=False)"
   ]
  },
  {
   "cell_type": "code",
   "execution_count": 117,
   "id": "c9e31c8f",
   "metadata": {},
   "outputs": [],
   "source": [
    "result_df = pd.read_excel(result_file_path)"
   ]
  },
  {
   "cell_type": "code",
   "execution_count": 122,
   "id": "21b9e4e8",
   "metadata": {},
   "outputs": [],
   "source": [
    "result_df = result_df.rename(\n",
    "    columns={\n",
    "        \"feature_index\": \"FEATURE_INDEX\",\n",
    "        \"LAPANGAN_USAHA\":\"SEKTOR_EKONOMI\",\n",
    "        \"SATUAN/ UNIT\":\"SATUAN_UNIT\"\n",
    "    }\n",
    ")\n",
    "\n",
    "# Replace only exact \"-\"\n",
    "result_df[\"VALUE\"] = result_df[\"VALUE\"].replace(\"-\", np.nan)"
   ]
  },
  {
   "cell_type": "code",
   "execution_count": 124,
   "id": "74721409",
   "metadata": {},
   "outputs": [],
   "source": [
    "result_df.to_excel(result_file_path, index=False)"
   ]
  }
 ],
 "metadata": {
  "kernelspec": {
   "display_name": "new_env",
   "language": "python",
   "name": "python3"
  },
  "language_info": {
   "codemirror_mode": {
    "name": "ipython",
    "version": 3
   },
   "file_extension": ".py",
   "mimetype": "text/x-python",
   "name": "python",
   "nbconvert_exporter": "python",
   "pygments_lexer": "ipython3",
   "version": "3.10.18"
  }
 },
 "nbformat": 4,
 "nbformat_minor": 5
}
